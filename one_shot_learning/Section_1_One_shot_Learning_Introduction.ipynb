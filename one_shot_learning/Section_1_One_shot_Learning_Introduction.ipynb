{
  "nbformat": 4,
  "nbformat_minor": 0,
  "metadata": {
    "colab": {
      "name": "Section 1: One-shot Learning Introduction.ipynb",
      "provenance": [],
      "collapsed_sections": []
    },
    "kernelspec": {
      "name": "python3",
      "display_name": "Python 3"
    },
    "language_info": {
      "name": "python"
    }
  },
  "cells": [
    {
      "cell_type": "markdown",
      "source": [
        "# Section 1: One-Shot Learning Introduction\n",
        "\n",
        "\n",
        "### Machine Learning: Parametrics vs. Non-Parametric\n",
        "\n",
        "- **Parametric**: \n",
        "  - Adapt the parameters via an algorithm.\n",
        "    - Logistic Regression, Support Vector Machines, Neural Networks \n",
        "\n",
        "- **Non-Parametrics**:\n",
        "  - Learning is done by memorization (storing data), some dimensionality reduction\n",
        "    - k-NN & Decision Trees\n",
        "\n",
        "\n",
        "\n",
        "### Pre-requisites for One-shot Learning\n",
        "\n",
        "- Previously trained filters \n",
        "- Pre-determined architectures \n",
        "- Definite taxonomy for the data stored / collected\n",
        "\n",
        "\n",
        "### Types of One-shot Learning\n",
        "- Data augmentation\n",
        "- Model\n",
        "- Metrics\n",
        "- Optimization\n",
        "- Generative modeling"
      ],
      "metadata": {
        "id": "yKXghcyCtQ7u"
      }
    },
    {
      "cell_type": "code",
      "execution_count": 2,
      "metadata": {
        "id": "K-rmL1IDtML5"
      },
      "outputs": [],
      "source": [
        "\n",
        "import numpy as np \n",
        "\n",
        "# the datasets we'll be using \n",
        "from sklearn import datasets\n",
        "\n",
        "# model \n",
        "from sklearn.neighbors import KNeighborsClassifier\n",
        "\n",
        "# split data and evaluation\n",
        "from sklearn.model_selection import train_test_split\n",
        "from sklearn.model_selection import cross_val_score\n",
        "\n",
        "# metrics \n",
        "from sklearn.metrics import confusion_matrix, accuracy_score\n",
        "\n",
        "# MLP\n",
        "from sklearn.neural_network import MLPClassifier\n",
        "\n",
        "# plotting\n",
        "import matplotlib.pyplot as plt \n",
        "import seaborn as sns\n",
        "from pylab import rcParams\n",
        "# figure size\n",
        "rcParams['figure.figsize'] = 20,8"
      ]
    },
    {
      "cell_type": "code",
      "source": [
        "# importing the dataset \n",
        "data = datasets.load_iris()\n",
        "X = data.data\n",
        "Y = data.target"
      ],
      "metadata": {
        "id": "AjBlKBx8zTav"
      },
      "execution_count": 3,
      "outputs": []
    },
    {
      "cell_type": "code",
      "source": [
        "# Constants \n",
        "\n",
        "# number of neighbours\n",
        "N_NEIGHBOURS = 3\n",
        "# test size \n",
        "TEST_SIZE = 0.20\n",
        "# names of the classes\n",
        "class_names = ['Setosa','Versicolour','Virginica']"
      ],
      "metadata": {
        "id": "ao9mytjQ08IB"
      },
      "execution_count": 4,
      "outputs": []
    },
    {
      "cell_type": "code",
      "source": [
        "# looking at a scatter plot\n",
        "plt.scatter(X[:, 0], X[:, 1], c=Y)\n",
        "plt.title(\"Scatter Plot Between Class 0 & 1\")\n",
        "plt.show()"
      ],
      "metadata": {
        "id": "MtRVoMYfzlli"
      },
      "execution_count": null,
      "outputs": []
    },
    {
      "cell_type": "code",
      "source": [
        "# let's split the data \n",
        "X_train, X_test, y_train, y_test = train_test_split(X,\n",
        "                                                    Y,\n",
        "                                                    test_size=TEST_SIZE,\n",
        "                                                    random_state=42)"
      ],
      "metadata": {
        "id": "ZGvYgF1jzj17"
      },
      "execution_count": 6,
      "outputs": []
    },
    {
      "cell_type": "code",
      "source": [
        "# instantiate the classifier \n",
        "knn = KNeighborsClassifier(N_NEIGHBOURS)\n",
        "\n",
        "# lets fit it to the data \n",
        "knn.fit(X_train, y_train)\n",
        "\n",
        "# predict \n",
        "y_pred = knn.predict(X_test)\n",
        "\n",
        "# lets look at the results \n",
        "acc = accuracy_score(y_test, y_pred)\n",
        "\n",
        "# confusion matrix \n",
        "cm = confusion_matrix(y_test, y_pred)\n",
        "\n",
        "print(acc)\n",
        "sns.heatmap(cm, annot=True)\n",
        "plt.show()"
      ],
      "metadata": {
        "id": "JmeiaDKO10_T"
      },
      "execution_count": null,
      "outputs": []
    },
    {
      "cell_type": "code",
      "source": [
        "def test_model(model, data,datacol,\n",
        "               targetcol,\n",
        "               test_size,\n",
        "               random_state, title,visualize=True,return_stats=True):\n",
        "  \"\"\" split and test model. shows confusion matrix\n",
        "\n",
        "  returns predictions and confusion matrix for a given model and data. \n",
        "\n",
        "  Assumes the data is a pandas.DataFrame.\n",
        "\n",
        "  params:\n",
        "  model:type: sklearn model: a given model that has a fit & predict method\n",
        "  data:type: pandas.DataFrame: dataframe with the X & Y values. \n",
        "  datacol:type:str: name of the column with the features\n",
        "  targetcol:type:str: name of the target column\n",
        "  random_state:type:int: seed \n",
        "  title:type:str: title of the graph to show \n",
        "  visualize:type:bool: To show the plot or not\n",
        "  return_stats:type:bool: whether to print the accuracy & confusion_matrix\n",
        "  \n",
        "  returns\n",
        "  y_pred:type:array: predictions of the model \n",
        "  acc:type:int:      accuracy of the model (in %)\n",
        "  cm:type:nd-array:    confusion matrix of the model\n",
        "  \"\"\"\n",
        "  # separate\n",
        "  X = data[datacol]\n",
        "  Y = data[targetcol]\n",
        "  # split the data\n",
        "  X_train, X_test, y_train, y_test = train_test_split(X,\n",
        "                                                      Y,\n",
        "                                                      test_size=test_size,\n",
        "                                                      random_state=random_state)\n",
        "  # fit the model \n",
        "  model.fit(X_train, y_train)\n",
        "  # predict \n",
        "  y_pred = model.predict(X_test)\n",
        "  # get the metrics\n",
        "  acc = accuracy_score(y_test, y_pred) * 100 # percentage\n",
        "  # confusion matrix\n",
        "  cm = confusion_matrix(y_test, y_pred)\n",
        "  # show plot \n",
        "  if visualize: \n",
        "    g = sns.heatmap(cm, annot=True)\n",
        "    g.set_title(title)\n",
        "    plt.show()\n",
        "  \n",
        "  if return_stats:\n",
        "    print(f\"The accuracy of the model is: {acc}\")\n",
        "    print(cm)\n",
        "  \n",
        "  return y_pred, acc, cm\n",
        "\n"
      ],
      "metadata": {
        "id": "a8blFGqU7ir_"
      },
      "execution_count": 51,
      "outputs": []
    },
    {
      "cell_type": "code",
      "source": [
        "# Whole section one with a good function to summarize it all\n",
        "\n",
        "# load the given data \n",
        "# return it as a dataframe\n",
        "data = datasets.load_iris(as_frame=True)\n",
        "# our initial data\n",
        "X = data['data']\n",
        "Y = data['target']\n",
        "\n",
        "# instantiate the model with the given constants\n",
        "\n",
        "# number of neighbors\n",
        "N_NEIGHBORS = 3\n",
        "# Number of hidden layers \n",
        "HIDDEN_LAYERS = (300, 200, 150)\n",
        "# max iterations \n",
        "MAX_ITER = 30\n",
        "# the test size \n",
        "TEST_SIZE = 0.15\n",
        "# seed \n",
        "SEED = 42\n",
        "# knn \n",
        "knn = KNeighborsClassifier(n_neighbors=N_NEIGHBORS)\n",
        "\n",
        "# MulitLayerPerceptron\n",
        "mlp = MLPClassifier(hidden_layer_sizes=HIDDEN_LAYERS, \n",
        "                    max_iter=MAX_ITER)\n",
        "# testing model 1 \n",
        "title = f\"Confusion Matrix for k-NN (k={N_NEIGHBORS})\"\n",
        "y_pred, acc, cm = test_model(knn,\n",
        "                            data,\n",
        "                            'data',\n",
        "                            'target',\n",
        "                            TEST_SIZE,\n",
        "                            SEED,\n",
        "                            title,\n",
        "                            visualize=True,\n",
        "                            return_stats=True)\n",
        "\n",
        "# testing model 2\n",
        "title_2 = f\"Confusion Matrix for NN (Hidden Layers = {HIDDEN_LAYERS})\"\n",
        "y_pred_2, acc_2, cm_2 = test_model(mlp,\n",
        "                                  data,\n",
        "                                  'data',\n",
        "                                  'target',\n",
        "                                  TEST_SIZE,\n",
        "                                  SEED,\n",
        "                                  title_2,\n",
        "                                  visualize=True,\n",
        "                                  return_stats=True)\n",
        "\n"
      ],
      "metadata": {
        "colab": {
          "base_uri": "https://localhost:8080/",
          "height": 904
        },
        "id": "BY4PeZ1C4vqN",
        "outputId": "d319b443-7783-406e-c913-cab114481911"
      },
      "execution_count": 56,
      "outputs": [
        {
          "output_type": "display_data",
          "data": {
            "image/png": "[encoded data removed]",
            "text/plain": [
              "<Figure size 1440x576 with 2 Axes>"
            ]
          },
          "metadata": {
            "needs_background": "light"
          }
        },
        {
          "output_type": "stream",
          "name": "stdout",
          "text": [
            "The accuracy of the model is: 100.0\n",
            "[[8 0 0]\n",
            " [0 9 0]\n",
            " [0 0 6]]\n"
          ]
        },
        {
          "output_type": "stream",
          "name": "stderr",
          "text": [
            "/usr/local/lib/python3.7/dist-packages/sklearn/neural_network/_multilayer_perceptron.py:696: ConvergenceWarning: Stochastic Optimizer: Maximum iterations (30) reached and the optimization hasn't converged yet.\n",
            "  ConvergenceWarning,\n"
          ]
        },
        {
          "output_type": "display_data",
          "data": {
            "image/png": "[encoded data removed]",
            "text/plain": [
              "<Figure size 1440x576 with 2 Axes>"
            ]
          },
          "metadata": {
            "needs_background": "light"
          }
        },
        {
          "output_type": "stream",
          "name": "stdout",
          "text": [
            "The accuracy of the model is: 100.0\n",
            "[[8 0 0]\n",
            " [0 9 0]\n",
            " [0 0 6]]\n"
          ]
        }
      ]
    },
    {
      "cell_type": "code",
      "source": [
        ""
      ],
      "metadata": {
        "id": "DfS18DaP98Np"
      },
      "execution_count": null,
      "outputs": []
    }
  ]
}