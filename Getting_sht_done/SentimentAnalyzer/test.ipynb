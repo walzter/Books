{
 "cells": [
  {
   "cell_type": "code",
   "execution_count": 1,
   "metadata": {},
   "outputs": [],
   "source": [
    "# start the server with \n",
    "# uvicorn SentimentAnalyzer.api:app --reload\n",
    "\n",
    "# testing the server \n",
    "import requests\n",
    "import json"
   ]
  },
  {
   "cell_type": "code",
   "execution_count": 3,
   "metadata": {},
   "outputs": [],
   "source": [
    "input_text = \"They were very mean to me today at school\""
   ]
  },
  {
   "cell_type": "code",
   "execution_count": 4,
   "metadata": {},
   "outputs": [],
   "source": [
    "# input a text \n",
    "#input_text = input(\"Enter a text to classify\")\n",
    "# headers to be sent\n",
    "headers = {\n",
    "            \"accept\":\"application/json\",\n",
    "            \"Content-Type\":\"application/json\"\n",
    "            }\n",
    "# the payload\n",
    "data = {\n",
    "        \"text\":input_text\n",
    "        }\n",
    "\n",
    "# URL\n",
    "url = 'http://127.0.0.1:8000/predict'"
   ]
  },
  {
   "cell_type": "code",
   "execution_count": 11,
   "metadata": {},
   "outputs": [
    {
     "name": "stdout",
     "output_type": "stream",
     "text": [
      "{'probabilities': {'negative': 0.38041186332702637, 'neutral': 0.26320880651474, 'positive': 0.3563793897628784}, 'sentiment': 'negative', 'confidence': 0.38041186332702637}\n"
     ]
    }
   ],
   "source": [
    "# the response \n",
    "res = requests.post(url, headers=headers, data=json.dumps(data))\n",
    "\n",
    "# get the content \n",
    "res = res.content\n",
    "\n",
    "# into JSON \n",
    "res_json = json.loads(res.decode('utf-8'))\n",
    "\n",
    "for k, v in res_json.items():\n",
    "    \n",
    "    if type(v) == dict:\n",
    "        print(k)\n",
    "        for f,g in v.items():\n",
    "            print(f, g)\n",
    "    else:\n",
    "        print(k, v,'\\n')"
   ]
  },
  {
   "cell_type": "code",
   "execution_count": null,
   "metadata": {},
   "outputs": [],
   "source": []
  }
 ],
 "metadata": {
  "interpreter": {
   "hash": "ac6858c3dbc49267e902ff986705b591b9d7b57befff84fd7d814fe16c4a8e1f"
  },
  "kernelspec": {
   "display_name": "Python 3.8.5 ('ci_covid')",
   "language": "python",
   "name": "python3"
  },
  "language_info": {
   "codemirror_mode": {
    "name": "ipython",
    "version": 3
   },
   "file_extension": ".py",
   "mimetype": "text/x-python",
   "name": "python",
   "nbconvert_exporter": "python",
   "pygments_lexer": "ipython3",
   "version": "3.8.5"
  },
  "orig_nbformat": 4
 },
 "nbformat": 4,
 "nbformat_minor": 2
}
