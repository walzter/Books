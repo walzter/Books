{
 "cells": [
  {
   "cell_type": "markdown",
   "metadata": {},
   "source": [
    "# Chapter 2: First Neural Network with PyTorch"
   ]
  },
  {
   "cell_type": "markdown",
   "metadata": {},
   "source": [
    "#### Imports"
   ]
  },
  {
   "cell_type": "code",
   "execution_count": 37,
   "metadata": {},
   "outputs": [],
   "source": [
    "# importing the neccesary libraries\n",
    "\n",
    "# operating system \n",
    "import os \n",
    "\n",
    "# plotting \n",
    "import matplotlib.pyplot as plt \n",
    "import seaborn as sns \n",
    "\n",
    "# linalg\n",
    "import numpy as np \n",
    "\n",
    "# dataframes \n",
    "import pandas as pd\n",
    "\n",
    "# splitting datasets \n",
    "from sklearn.model_selection import train_test_split\n",
    "\n",
    "# metrics - CM + report \n",
    "from sklearn.metrics import confusion_matrix, classification_report\n",
    "\n",
    "# neural nets \n",
    "import torch \n",
    "import torch.nn as nn\n",
    "import torch.optim as optim \n",
    "\n",
    "# functional torch \n",
    "import torch.nn.functional as F\n",
    "\n",
    "# colored print statements :D\n",
    "import termcolor\n",
    "from termcolor import colored"
   ]
  },
  {
   "cell_type": "markdown",
   "metadata": {},
   "source": [
    "#### Loading Data"
   ]
  },
  {
   "cell_type": "code",
   "execution_count": 2,
   "metadata": {},
   "outputs": [
    {
     "data": {
      "image/png": "[encoded data removed]",
      "text/plain": [
       "<Figure size 432x288 with 1 Axes>"
      ]
     },
     "metadata": {
      "needs_background": "light"
     },
     "output_type": "display_data"
    },
    {
     "name": "stdout",
     "output_type": "stream",
     "text": [
      "0.0    0.778723\n",
      "1.0    0.221277\n",
      "Name: RainTomorrow, dtype: float64\n"
     ]
    }
   ],
   "source": [
    "# lets load the data located in the data folder \n",
    "DATA_PATH = '../data/Chapter_2/weatherAUS.csv'\n",
    "# load into df \n",
    "df = pd.read_csv(DATA_PATH)\n",
    "# lets look at the shape of it \n",
    "#print(df.shape)\n",
    "# lets look at the columns \n",
    "#print(df.columns)\n",
    "\n",
    "# The book suggests keeping these columns: \n",
    "# cols=['Rainfall','Humidity3pm','Pressure9am','RainToday','RainTomorrow']\n",
    "# I will use the first and the last two only the rest I change\n",
    "cols = ['Rainfall','WindSpeed9am','WindSpeed3pm','Pressure3pm','RainToday','RainTomorrow']\n",
    "# lets index the df with the respective cols\n",
    "df = df[cols]\n",
    "# lets look at the dtypes of the columns \n",
    "#print(df.dtypes) # we see that 3 are objects, let's look at them\n",
    "\n",
    "# we see WindDir3PM is about the direction, so let's remove that from the orig\n",
    "# and replace with windspeed 9 am \n",
    "# now we can replace the No and Yes with numbers \n",
    "d = {\"No\":0,\"Yes\":1}\n",
    "df['RainToday'].replace(d, inplace=True)\n",
    "df['RainTomorrow'].replace(d, inplace=True)\n",
    "\n",
    "# looking at nanas \n",
    "#df.isna().sum() # plenty of NaNs, lets drop them \n",
    "\n",
    "# dropping the nans \n",
    "df = df.dropna(how='any')\n",
    "\n",
    "# lets visualize the data \n",
    "sns.countplot(x = df.RainTomorrow);\n",
    "plt.show()\n",
    "# how many of the instances are for rain tomorrow?\n",
    "print(df.RainTomorrow.value_counts()/df.shape[0]) # high class imbalance"
   ]
  },
  {
   "cell_type": "markdown",
   "metadata": {},
   "source": [
    "#### Splitting Data"
   ]
  },
  {
   "cell_type": "code",
   "execution_count": 3,
   "metadata": {},
   "outputs": [
    {
     "name": "stdout",
     "output_type": "stream",
     "text": [
      "torch.Size([100775, 5]) torch.Size([100775])\n",
      "torch.Size([25194, 5]) torch.Size([25194])\n"
     ]
    }
   ],
   "source": [
    "# now lets separate the data\n",
    "X = df.drop('RainTomorrow',axis=1).values\n",
    "Y = df.RainTomorrow.values\n",
    "\n",
    "# lets split the data \n",
    "TEST_SIZE = 0.2 # 20% for testing, 80% for training\n",
    "RAND_SEED = 3407\n",
    "X_train, X_test, y_train, y_test = train_test_split(X, Y, test_size=TEST_SIZE, random_state=RAND_SEED)\n",
    "# convert all of them into tensors \n",
    "# training\n",
    "X_train = torch.from_numpy(X_train).float()\n",
    "y_train = torch.from_numpy(y_train).float()\n",
    "# testing\n",
    "X_test = torch.from_numpy(X_test).float()\n",
    "y_test = torch.from_numpy(y_test).float()\n",
    "\n",
    "# lets look at the training sizes \n",
    "print(X_train.shape, y_train.shape) # train \n",
    "print(X_test.shape, y_test.shape) # test"
   ]
  },
  {
   "cell_type": "markdown",
   "metadata": {},
   "source": [
    "#### Model"
   ]
  },
  {
   "cell_type": "code",
   "execution_count": 59,
   "metadata": {},
   "outputs": [],
   "source": [
    "# lets define a simple neural network \n",
    "class ANN(nn.Module):\n",
    "    \n",
    "    def __init__(self, n_features):\n",
    "        super(ANN, self).__init__()\n",
    "        self.fc1 = nn.Linear(n_features, 15)\n",
    "        self.fc2 = nn.Linear(15,3)\n",
    "        self.fc3 = nn.Linear(3,1)\n",
    "        \n",
    "    def forward(self, x):\n",
    "        x = F.relu(self.fc1(x))\n",
    "        x = F.relu(self.fc2(x))\n",
    "        return torch.sigmoid(self.fc3(x))"
   ]
  },
  {
   "cell_type": "code",
   "execution_count": 60,
   "metadata": {},
   "outputs": [
    {
     "data": {
      "text/plain": [
       "ANN(\n",
       "  (fc1): Linear(in_features=5, out_features=15, bias=True)\n",
       "  (fc2): Linear(in_features=15, out_features=3, bias=True)\n",
       "  (fc3): Linear(in_features=3, out_features=1, bias=True)\n",
       ")"
      ]
     },
     "execution_count": 60,
     "metadata": {},
     "output_type": "execute_result"
    }
   ],
   "source": [
    "# number of features we will have \n",
    "n_features = X_train.shape[1]\n",
    "# instantiate the model \n",
    "model = ANN(n_features)\n",
    "#lets look at the model\n",
    "model"
   ]
  },
  {
   "cell_type": "markdown",
   "metadata": {},
   "source": [
    "#### Activation Functions"
   ]
  },
  {
   "cell_type": "code",
   "execution_count": 25,
   "metadata": {},
   "outputs": [
    {
     "data": {
      "image/png": "[encoded data removed]",
      "text/plain": [
       "<Figure size 432x288 with 1 Axes>"
      ]
     },
     "metadata": {
      "needs_background": "light"
     },
     "output_type": "display_data"
    },
    {
     "data": {
      "image/png": "[encoded data removed]",
      "text/plain": [
       "<Figure size 432x288 with 1 Axes>"
      ]
     },
     "metadata": {
      "needs_background": "light"
     },
     "output_type": "display_data"
    }
   ],
   "source": [
    "# we are using two different activation functions: \n",
    "# ReLU    --> Rectified Linear Unit --> max(0, x)\n",
    "# Sigmoid --> No specific name      -->  1 / (1+e^-x)\n",
    "# lets look at them \n",
    "def plot_activation(FUNC,start=-1,stop=1,step=5,title=None, grid=True):\n",
    "    '''\n",
    "    Helper function to plot the activation functions. \n",
    "    args: \n",
    "        start:type:int - defines the start value of the linspace\n",
    "        stop:type:int - defines the stop value of the linspace\n",
    "        step:type:int - defines the step of the linspace\n",
    "        title:type:str - the title to add to the graph\n",
    "    output:\n",
    "        plot with the given activation function on the linspace\n",
    "    '''\n",
    "    ax = plt.gca()\n",
    "    space1 = np.linspace(start,stop,step)\n",
    "    space2 = torch.linspace(start,stop,step)\n",
    "    # applying the FUNC \n",
    "    func_space = FUNC(space2).numpy()\n",
    "    plt.plot(space1, func_space)\n",
    "    ax.set_ylim([-1.5, 1.5])\n",
    "    if grid:\n",
    "        plt.grid()\n",
    "    if title != None:\n",
    "        plt.title(title)\n",
    "    plt.show()\n",
    "\n",
    "\n",
    "# showing ReLU\n",
    "plot_activation(F.relu, start=-1, stop=1, step=5,title='ReLU Activation Function', grid=True)\n",
    "\n",
    "# showing sigmoid \n",
    "plot_activation(torch.sigmoid, start=-10, stop=10, step=100,title='Sigmoid Activation Function',grid=True)"
   ]
  },
  {
   "cell_type": "markdown",
   "metadata": {},
   "source": [
    "#### Loss Function and Optimizer "
   ]
  },
  {
   "cell_type": "markdown",
   "metadata": {},
   "source": [
    "We have: \n",
    "1. Our Model - Simple ANN with ReLU and Sigmoid \n",
    "2. We split our data \n",
    "\n",
    "What do we need now?\n",
    "1. Criteria - Loss Function \n",
    "2. Optimizer - How to we update our weights --> Optimizer + Hyperparamers --> Learning Rate \n"
   ]
  },
  {
   "cell_type": "code",
   "execution_count": 68,
   "metadata": {},
   "outputs": [],
   "source": [
    "# define some things \n",
    "LEARNING_RATE = 0.001\n",
    "# defining our criteria\n",
    "criterion = nn.BCELoss() # Binary Cross Entropy -- measures the difference between two binary vectors\n",
    "# optimizer --> we pass in the models or nets or Neural Networks parameters, and then define the learning rate \n",
    "opt = optim.Adam(model.parameters(), lr=LEARNING_RATE)"
   ]
  },
  {
   "cell_type": "markdown",
   "metadata": {},
   "source": [
    "#### Helper Functions "
   ]
  },
  {
   "cell_type": "code",
   "execution_count": 30,
   "metadata": {},
   "outputs": [],
   "source": [
    "# we need to be able to calculate the accuracy of the model \n",
    "\n",
    "def get_accuracy(y, y_hat):\n",
    "    '''\n",
    "    Helper function to calc. the accuracy of our models output (y_hat) against the real value y. \n",
    "    '''\n",
    "    pred = y_hat.ge(0.5).view(-1)\n",
    "    return (y == pred).sum().float() / len(y)\n",
    "\n",
    "# we also need a rounding helper \n",
    "def round_t(TENSOR, decimal_places=3):\n",
    "    return round(TENSOR.item(), decimal_places)"
   ]
  },
  {
   "cell_type": "markdown",
   "metadata": {},
   "source": [
    "#### Custom Training loop "
   ]
  },
  {
   "cell_type": "code",
   "execution_count": 69,
   "metadata": {},
   "outputs": [],
   "source": [
    "def train_lop(MODEL, CRITERIA, OPTIMIZER, EPOCHS,TEST_BATCH):\n",
    "    '''\n",
    "    Custom training loop to use the model, criteria and optimizer for the specified number of epochs\n",
    "    '''\n",
    "    for EPOCH in range(EPOCHS):\n",
    "        # TRAINING MODE\n",
    "        MODEL.train()\n",
    "        # the prediction of the model \n",
    "        y_pred = MODEL(X_train)\n",
    "        y_pred = torch.squeeze(y_pred)\n",
    "        # training loss\n",
    "        train_loss = CRITERIA(y_pred, y_train)\n",
    "        # information from model every nth EPOCH\n",
    "        if EPOCH%TEST_BATCH == 0:\n",
    "            # train accuracy \n",
    "            train_acc = get_accuracy(y_train, y_pred)\n",
    "            # put the moel into EVAL mode!\n",
    "            MODEL.eval()\n",
    "            # prediction\n",
    "            test_pred = MODEL(X_test)\n",
    "            # squeezing \n",
    "            test_pred = torch.squeeze(test_pred)\n",
    "            #calculating our test loss \n",
    "            test_loss = CRITERIA(test_pred, y_test)\n",
    "            #test accuracy \n",
    "            test_acc = get_accuracy(y_test, test_pred)\n",
    "            # text to print\n",
    "            train_text = f\"TRAINING: EPOCH: {EPOCH} LOSS = {round_t(train_loss)} ACCURACY = {round_t(train_acc)}\"\n",
    "            test_text = f\"TESTING: EPOCH: {EPOCH} LOSS = {round_t(test_loss)} ACCURACY = {round_t(test_acc)}\"\n",
    "            print(colored(text=train_text,color='red',on_color='on_grey',attrs=['bold']))\n",
    "            print(colored(text=test_text,color='green',on_color='on_white',attrs=['bold']))\n",
    "        # zeroing the gradients - else accumulated gradients from each iter\n",
    "        OPTIMIZER.zero_grad()\n",
    "        # Backprop\n",
    "        train_loss.backward()\n",
    "        # stepping the optimizer\n",
    "        OPTIMIZER.step()"
   ]
  },
  {
   "cell_type": "code",
   "execution_count": 70,
   "metadata": {},
   "outputs": [
    {
     "name": "stdout",
     "output_type": "stream",
     "text": [
      "\u001b[1m\u001b[40m\u001b[31mTRAINING: EPOCH: 0 LOSS = 0.484 ACCURACY = 0.787\u001b[0m\n",
      "\u001b[1m\u001b[47m\u001b[32mTESTING: EPOCH: 0 LOSS = 0.487 ACCURACY = 0.784\u001b[0m\n",
      "\u001b[1m\u001b[40m\u001b[31mTRAINING: EPOCH: 100 LOSS = 0.476 ACCURACY = 0.792\u001b[0m\n",
      "\u001b[1m\u001b[47m\u001b[32mTESTING: EPOCH: 100 LOSS = 0.48 ACCURACY = 0.79\u001b[0m\n",
      "\u001b[1m\u001b[40m\u001b[31mTRAINING: EPOCH: 200 LOSS = 0.476 ACCURACY = 0.792\u001b[0m\n",
      "\u001b[1m\u001b[47m\u001b[32mTESTING: EPOCH: 200 LOSS = 0.48 ACCURACY = 0.79\u001b[0m\n",
      "\u001b[1m\u001b[40m\u001b[31mTRAINING: EPOCH: 300 LOSS = 0.476 ACCURACY = 0.792\u001b[0m\n",
      "\u001b[1m\u001b[47m\u001b[32mTESTING: EPOCH: 300 LOSS = 0.48 ACCURACY = 0.79\u001b[0m\n",
      "\u001b[1m\u001b[40m\u001b[31mTRAINING: EPOCH: 400 LOSS = 0.476 ACCURACY = 0.792\u001b[0m\n",
      "\u001b[1m\u001b[47m\u001b[32mTESTING: EPOCH: 400 LOSS = 0.48 ACCURACY = 0.79\u001b[0m\n",
      "\u001b[1m\u001b[40m\u001b[31mTRAINING: EPOCH: 500 LOSS = 0.476 ACCURACY = 0.792\u001b[0m\n",
      "\u001b[1m\u001b[47m\u001b[32mTESTING: EPOCH: 500 LOSS = 0.48 ACCURACY = 0.79\u001b[0m\n",
      "\u001b[1m\u001b[40m\u001b[31mTRAINING: EPOCH: 600 LOSS = 0.476 ACCURACY = 0.792\u001b[0m\n",
      "\u001b[1m\u001b[47m\u001b[32mTESTING: EPOCH: 600 LOSS = 0.48 ACCURACY = 0.79\u001b[0m\n",
      "\u001b[1m\u001b[40m\u001b[31mTRAINING: EPOCH: 700 LOSS = 0.476 ACCURACY = 0.792\u001b[0m\n",
      "\u001b[1m\u001b[47m\u001b[32mTESTING: EPOCH: 700 LOSS = 0.48 ACCURACY = 0.79\u001b[0m\n",
      "\u001b[1m\u001b[40m\u001b[31mTRAINING: EPOCH: 800 LOSS = 0.476 ACCURACY = 0.792\u001b[0m\n",
      "\u001b[1m\u001b[47m\u001b[32mTESTING: EPOCH: 800 LOSS = 0.48 ACCURACY = 0.79\u001b[0m\n",
      "\u001b[1m\u001b[40m\u001b[31mTRAINING: EPOCH: 900 LOSS = 0.476 ACCURACY = 0.792\u001b[0m\n",
      "\u001b[1m\u001b[47m\u001b[32mTESTING: EPOCH: 900 LOSS = 0.48 ACCURACY = 0.79\u001b[0m\n"
     ]
    }
   ],
   "source": [
    "train_lop(model, criterion, opt, 1000,100)"
   ]
  },
  {
   "cell_type": "markdown",
   "metadata": {},
   "source": [
    "#### Evaluation"
   ]
  },
  {
   "cell_type": "code",
   "execution_count": 74,
   "metadata": {},
   "outputs": [
    {
     "name": "stdout",
     "output_type": "stream",
     "text": [
      "              precision    recall  f1-score   support\n",
      "\n",
      "     No Rain       0.80      0.97      0.88     19589\n",
      "        Rain       0.61      0.16      0.25      5605\n",
      "\n",
      "    accuracy                           0.79     25194\n",
      "   macro avg       0.70      0.56      0.56     25194\n",
      "weighted avg       0.76      0.79      0.74     25194\n",
      "\n"
     ]
    }
   ],
   "source": [
    "# lets look a little deeper into the model \n",
    "classes = ['No Rain','Rain']\n",
    "# lets predict \n",
    "predz = model(X_test)\n",
    "predz = predz.ge(0.5).view(-1)\n",
    "# classification report \n",
    "cr = classification_report(y_test, predz, target_names=classes)\n",
    "print(cr)"
   ]
  },
  {
   "cell_type": "code",
   "execution_count": 81,
   "metadata": {},
   "outputs": [
    {
     "data": {
      "image/png": "[encoded data removed]",
      "text/plain": [
       "<Figure size 432x288 with 2 Axes>"
      ]
     },
     "metadata": {
      "needs_background": "light"
     },
     "output_type": "display_data"
    }
   ],
   "source": [
    "# lets look at a confusion matrix \n",
    "# format of (tn, fp, fn, tp)\n",
    "cm = confusion_matrix(y_test, predz)\n",
    "dfcm = pd.DataFrame(cm, index=classes, columns=classes)\n",
    "g = sns.heatmap(dfcm,annot=True,fmt='d')\n",
    "plt.ylabel('True Label')\n",
    "plt.xlabel('Predicted Label')\n",
    "plt.show()"
   ]
  },
  {
   "cell_type": "code",
   "execution_count": 88,
   "metadata": {},
   "outputs": [
    {
     "name": "stdout",
     "output_type": "stream",
     "text": [
      "True Negatives: 19022\n",
      "False Positives: 567\n",
      "False Negatives: 4726\n",
      "True Positives: 879\n"
     ]
    }
   ],
   "source": [
    "(tn, fp), (fn, tp) = confusion_matrix(y_test, predz)\n",
    "print(f\"True Negatives: {tn}\")\n",
    "print(f\"False Positives: {fp}\")\n",
    "print(f\"False Negatives: {fn}\")\n",
    "print(f\"True Positives: {tp}\")"
   ]
  }
 ],
 "metadata": {
  "interpreter": {
   "hash": "ac6858c3dbc49267e902ff986705b591b9d7b57befff84fd7d814fe16c4a8e1f"
  },
  "kernelspec": {
   "display_name": "Python 3.8.5 64-bit ('ci_covid': conda)",
   "language": "python",
   "name": "python3"
  },
  "language_info": {
   "codemirror_mode": {
    "name": "ipython",
    "version": 3
   },
   "file_extension": ".py",
   "mimetype": "text/x-python",
   "name": "python",
   "nbconvert_exporter": "python",
   "pygments_lexer": "ipython3",
   "version": "3.8.5"
  },
  "orig_nbformat": 4
 },
 "nbformat": 4,
 "nbformat_minor": 2
}
