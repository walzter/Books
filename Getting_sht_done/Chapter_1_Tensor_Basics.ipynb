{
 "cells": [
  {
   "cell_type": "markdown",
   "metadata": {},
   "source": [
    "# Getting Sht Done with PyTorch - Venelin Valkov"
   ]
  },
  {
   "cell_type": "markdown",
   "metadata": {},
   "source": [
    "This will be the notebook which accompanies this book \"Getting sht done with PyTorch by Venelin Valkov\", in order to take notes as well as test out the code "
   ]
  },
  {
   "cell_type": "markdown",
   "metadata": {},
   "source": [
    "## Chapter 1: Getting Started with PyTorch "
   ]
  },
  {
   "cell_type": "markdown",
   "metadata": {},
   "source": [
    "#### Tensor Basics"
   ]
  },
  {
   "cell_type": "code",
   "execution_count": 3,
   "metadata": {},
   "outputs": [],
   "source": [
    "# import necessary dependencies \n",
    "import torch \n",
    "import numpy as np"
   ]
  },
  {
   "cell_type": "code",
   "execution_count": 13,
   "metadata": {},
   "outputs": [
    {
     "name": "stdout",
     "output_type": "stream",
     "text": [
      "[11 11 11]\n",
      "tensor([15, 15, 15])\n",
      "\n",
      "Numpy --> Tensors\n",
      "tensor([1, 1, 1])\n",
      "<class 'torch.Tensor'>\n",
      "[1 1 1]\n",
      "<class 'numpy.ndarray'>\n",
      "\n",
      "Tensors --> Numpy\n",
      "[9 9 9]\n",
      "<class 'numpy.ndarray'>\n",
      "tensor([9, 9, 9])\n",
      "<class 'torch.Tensor'>\n"
     ]
    }
   ],
   "source": [
    "# simple numpy arrays \n",
    "a,b = np.array([5,5,5]), np.array([6,6,6])\n",
    "# we can add them \n",
    "c = a + b \n",
    "print(c) # 5+6 for all the elements \n",
    "\n",
    "# and now, wow, the same for tensors!!! \n",
    "a,b = torch.tensor([7,7,7]), torch.tensor([8,8,8])\n",
    "c = a + b\n",
    "print(c) # 7+8 for all the elements \n",
    "\n",
    "# we can even go from numpy to tensors! \n",
    "print(\"\\nNumpy --> Tensors\")\n",
    "a = torch.tensor([1,1,1])\n",
    "print(a)\n",
    "print(type(a)) # tensor type\n",
    "a = a.numpy()\n",
    "print(a)\n",
    "print(type(a)) # numpy nd.array! \n",
    "\n",
    "# and we can even go from tensors to numpy !!!\n",
    "print(\"\\nTensors --> Numpy\")\n",
    "a = np.array([9,9,9])\n",
    "print(a)\n",
    "print(type(a))\n",
    "# converting it to a tensor \n",
    "a = torch.from_numpy(a)\n",
    "print(a)\n",
    "print(type(a))"
   ]
  },
  {
   "cell_type": "markdown",
   "metadata": {},
   "source": [
    "So what are Tensors?!\n",
    "\n",
    "*In short:* they are nd-arrays, why nd?, because it is the number of indices required in order to access a specific element! The easiest way to think about it, is that the tensors we use with PyTorch, are basically n-dimensional arrays. This are able to store information in a better sense, because what does it mean to store a video information in a n x d matrix? A tensor gives you more dimensions to describe the data even more! "
   ]
  },
  {
   "cell_type": "markdown",
   "metadata": {},
   "source": [
    "#### Creating Tensors"
   ]
  },
  {
   "cell_type": "code",
   "execution_count": 25,
   "metadata": {},
   "outputs": [
    {
     "name": "stdout",
     "output_type": "stream",
     "text": [
      "This is a float tensor!\n",
      "tensor([[1., 1., 1., 1.],\n",
      "        [2., 2., 2., 2.]])\n",
      "\n",
      "And this is a bool tensor!!\n",
      "tensor([[True, True],\n",
      "        [True, True]])\n",
      "\n",
      "Creating a tensor with random values\n",
      "tensor([[0.7617, 0.2288],\n",
      "        [0.4510, 0.2298]])\n",
      "\n",
      "Creating a tensor with ones\n",
      "tensor([[1., 1.],\n",
      "        [1., 1.],\n",
      "        [1., 1.]])\n"
     ]
    }
   ],
   "source": [
    "# create a tensor with ints and create floats \n",
    "a = torch.FloatTensor([[1,1,1,1],[2,2,2,2]])\n",
    "print(\"This is a float tensor!\")\n",
    "print(a) # we see that there is a period, which indicates the type float \n",
    "\n",
    "# now we can also define the type inside the tensor operation \n",
    "a = torch.tensor([[1,2],[2,1]],dtype=torch.bool)\n",
    "print(\"\\nAnd this is a bool tensor!!\")\n",
    "print(a)\n",
    "\n",
    "\n",
    "# we can also create tensors with random values - I think range [0,1]\n",
    "print(\"\\nCreating a tensor with random values\")\n",
    "a = torch.rand(2,2,)\n",
    "print(a)\n",
    "\n",
    "# or we can create the tensors with ones \n",
    "print(\"\\nCreating a tensor with ones\")\n",
    "a = torch.ones(3,2)\n",
    "print(a)"
   ]
  },
  {
   "cell_type": "markdown",
   "metadata": {},
   "source": [
    "#### Tensor Operations"
   ]
  },
  {
   "cell_type": "code",
   "execution_count": 42,
   "metadata": {},
   "outputs": [
    {
     "name": "stdout",
     "output_type": "stream",
     "text": [
      "Getting the sum of a tensor\n",
      "tensor([[1, 2, 3],\n",
      "        [4, 5, 6]])\n",
      "The sum of the tensor is: 21\n",
      "\n",
      "Transposing the tensors\n",
      "tensor([[1, 2, 3],\n",
      "        [4, 5, 6]])\n",
      "tensor([[1, 4],\n",
      "        [2, 5],\n",
      "        [3, 6]])\n",
      "\n",
      "Dimensions of the tensors\n",
      "tensor([[3, 4, 5],\n",
      "        [6, 7, 8]])\n",
      "Dimension of the tensor is  torch.Size([2, 3])\n",
      "\n",
      "Operations on tensors\n",
      "tensor([[1, 2, 3],\n",
      "        [4, 5, 6]])\n",
      "tensor([[7, 8, 9],\n",
      "        [1, 2, 3]])\n",
      "tensor([[ 8, 10, 12],\n",
      "        [ 5,  7,  9]])\n",
      "\n",
      "Inplace operations, modifies the original variable\n",
      "tensor([[ 8, 10, 12],\n",
      "        [ 5,  7,  9]])\n"
     ]
    }
   ],
   "source": [
    "# we can get the sum of a tensor \n",
    "print(\"Getting the sum of a tensor\")\n",
    "a = torch.tensor([[1,2,3],[4,5,6]])\n",
    "print(a)\n",
    "print(f'The sum of the tensor is: {a.sum()}')\n",
    "\n",
    "# or we can transpose the tensors \n",
    "print(\"\\nTransposing the tensors\")\n",
    "print(a)\n",
    "# transposing it \n",
    "print(a.t())\n",
    "\n",
    "# we can get the dimensions of the tensors \n",
    "print(\"\\nDimensions of the tensors\")\n",
    "a = torch.tensor([[3,4,5],[6,7,8]])\n",
    "print(a)\n",
    "print(\"Dimension of the tensor is \",a.size())\n",
    "\n",
    "\n",
    "# now we can perform mathematical operations \n",
    "print(\"\\nOperations on tensors\")\n",
    "a = torch.tensor([[1,2,3],[4,5,6]])\n",
    "b = torch.tensor([[7,8,9],[1,2,3]])\n",
    "# there are two ways of adding: inplace or not-inplace \n",
    "c = a.add(b) # not inplace \n",
    "print(a)\n",
    "print(b)\n",
    "print(c)\n",
    "print(\"\\nInplace operations, modifies the original variable\")\n",
    "a.add_(b) # now this is the same as doing a + b = c, and then saying c = a.\n",
    "print(a)"
   ]
  }
 ],
 "metadata": {
  "interpreter": {
   "hash": "ac6858c3dbc49267e902ff986705b591b9d7b57befff84fd7d814fe16c4a8e1f"
  },
  "kernelspec": {
   "display_name": "Python 3.8.5 64-bit ('ci_covid': conda)",
   "language": "python",
   "name": "python3"
  },
  "language_info": {
   "codemirror_mode": {
    "name": "ipython",
    "version": 3
   },
   "file_extension": ".py",
   "mimetype": "text/x-python",
   "name": "python",
   "nbconvert_exporter": "python",
   "pygments_lexer": "ipython3",
   "version": "3.8.5"
  },
  "orig_nbformat": 4
 },
 "nbformat": 4,
 "nbformat_minor": 2
}
